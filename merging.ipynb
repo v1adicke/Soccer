{
 "cells": [
  {
   "cell_type": "code",
   "execution_count": 1,
   "metadata": {},
   "outputs": [],
   "source": [
    "import pandas as pd"
   ]
  },
  {
   "cell_type": "markdown",
   "metadata": {},
   "source": [
    "Reading tables"
   ]
  },
  {
   "cell_type": "code",
   "execution_count": 4,
   "metadata": {},
   "outputs": [],
   "source": [
    "PL_O = pd.read_csv('PL24_Outfield.csv')\n",
    "LL_O = pd.read_csv('LL24_Outfield.csv')\n",
    "SA_O = pd.read_csv('SA24_Outfield.csv')\n",
    "BL_O = pd.read_csv('BL24_Outfield.csv')\n",
    "L1_O = pd.read_csv('L124_Outfield.csv')\n",
    "\n",
    "PL_K = pd.read_csv('PL24_Keeper.csv')\n",
    "LL_K = pd.read_csv('LL24_Keeper.csv')\n",
    "SA_K = pd.read_csv('SA24_Keeper.csv')\n",
    "BL_K = pd.read_csv('BL24_Keeper.csv')\n",
    "L1_K = pd.read_csv('L124_Keeper.csv')\n",
    "\n",
    "PL_F = pd.read_csv('PL24_For_teams.csv')\n",
    "LL_F = pd.read_csv('LL24_For_teams.csv')\n",
    "SA_F = pd.read_csv('SA24_For_teams.csv')\n",
    "BL_F = pd.read_csv('BL24_For_teams.csv')\n",
    "L1_F = pd.read_csv('L124_For_teams.csv')\n",
    "\n",
    "PL_V = pd.read_csv('PL24_Vs_teams.csv')\n",
    "LL_V = pd.read_csv('LL24_Vs_teams.csv')\n",
    "SA_V = pd.read_csv('SA24_Vs_teams.csv')\n",
    "BL_V = pd.read_csv('BL24_Vs_teams.csv')\n",
    "L1_V = pd.read_csv('L124_Vs_teams.csv')"
   ]
  },
  {
   "cell_type": "markdown",
   "metadata": {},
   "source": [
    "Outfield merging"
   ]
  },
  {
   "cell_type": "code",
   "execution_count": 5,
   "metadata": {},
   "outputs": [],
   "source": [
    "T5_O = pd.concat([PL_O, LL_O, SA_O, BL_O, L1_O])\n",
    "T5_O.to_csv('T524_Outfield.csv', index=False)"
   ]
  },
  {
   "cell_type": "markdown",
   "metadata": {},
   "source": [
    "Keepers merging"
   ]
  },
  {
   "cell_type": "code",
   "execution_count": 11,
   "metadata": {},
   "outputs": [],
   "source": [
    "T5_K = pd.concat([PL_K, LL_K, SA_K, BL_K, L1_K])\n",
    "T5_K.to_csv('T524_Keeper.csv', index=False)"
   ]
  },
  {
   "cell_type": "markdown",
   "metadata": {},
   "source": [
    "For teams merging"
   ]
  },
  {
   "cell_type": "code",
   "execution_count": 12,
   "metadata": {},
   "outputs": [],
   "source": [
    "T5_F = pd.concat([PL_F, LL_F, SA_F, BL_F, L1_F])\n",
    "T5_F.to_csv('T524_For_teams.csv', index=False)"
   ]
  },
  {
   "cell_type": "markdown",
   "metadata": {},
   "source": [
    "Vs teams merging"
   ]
  },
  {
   "cell_type": "code",
   "execution_count": 13,
   "metadata": {},
   "outputs": [],
   "source": [
    "T5_V = pd.concat([PL_V, LL_V, SA_V, BL_V, L1_V])\n",
    "T5_V.to_csv('T524_Vs_teams.csv', index=False)"
   ]
  }
 ],
 "metadata": {
  "kernelspec": {
   "display_name": "Python 3",
   "language": "python",
   "name": "python3"
  },
  "language_info": {
   "codemirror_mode": {
    "name": "ipython",
    "version": 3
   },
   "file_extension": ".py",
   "mimetype": "text/x-python",
   "name": "python",
   "nbconvert_exporter": "python",
   "pygments_lexer": "ipython3",
   "version": "3.11.9"
  }
 },
 "nbformat": 4,
 "nbformat_minor": 2
}
