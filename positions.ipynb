{
 "cells": [
  {
   "cell_type": "code",
   "execution_count": 3,
   "metadata": {},
   "outputs": [],
   "source": [
    "import requests\n",
    "from bs4 import BeautifulSoup\n",
    "import pandas as pd\n",
    "import re\n",
    "import asyncio\n",
    "import json"
   ]
  },
  {
   "cell_type": "code",
   "execution_count": 4,
   "metadata": {},
   "outputs": [],
   "source": [
    "def get_position(url):\n",
    "    positions = []\n",
    "    headers = {'User-Agent':'Mozilla/5.0 (Windows NT 10.0; Win64; x64) AppleWebKit/537.36 (KHTML, like Gecko) Chrome/126.0.0.0 YaBrowser/24.7.0.0 Safari/537.36'}\n",
    "    try:\n",
    "        res = requests.get(url, headers=headers, timeout=120)\n",
    "    except requests.exceptions.ConnectionError as e:\n",
    "        res = \"No response\"\n",
    "    comm = re.compile(\"<!--|-->\")\n",
    "    if res != 'No response':\n",
    "        soup = BeautifulSoup(comm.sub(\"\", res.text), \"lxml\")\n",
    "        x = soup.findAll('body')[0]\n",
    "        pos = x.find_all('a', {'class': 'sr_preset', 'data-hide': \"#all_similar .section_heading, #all_similar .topscroll_div\"})\n",
    "        for i in pos:\n",
    "            p = i.text.strip().encode().decode(\"utf-8\")\n",
    "            if p == 'Att Mid / Wingers':\n",
    "                positions.append('AM')\n",
    "            elif p == 'Midfielders':\n",
    "                positions.append('CM')\n",
    "            elif p == 'Center Backs':\n",
    "                positions.append('CB')\n",
    "            elif p == 'Fullbacks':\n",
    "                positions.append('FB')\n",
    "            elif p == 'Goalkeepers':\n",
    "                positions.append('GK')\n",
    "            else:\n",
    "                positions.append('FW')\n",
    "    else:\n",
    "        positions = [res]\n",
    "    return ', '.join(positions)"
   ]
  },
  {
   "cell_type": "code",
   "execution_count": 5,
   "metadata": {},
   "outputs": [],
   "source": [
    "df = pd.read_csv('T524_Outfield.csv')\n",
    "links = df['position'].to_list()"
   ]
  },
  {
   "cell_type": "code",
   "execution_count": null,
   "metadata": {},
   "outputs": [],
   "source": [
    "number = 0\n",
    "positions = []"
   ]
  },
  {
   "cell_type": "code",
   "execution_count": null,
   "metadata": {},
   "outputs": [],
   "source": [
    "while number < len(links):\n",
    "    for i in range(number, number + 19):\n",
    "        if i < len(links):\n",
    "            p = get_position(links[i])\n",
    "            print(p)\n",
    "            positions.append(p)\n",
    "    number += 19\n",
    "    await asyncio.sleep(60)"
   ]
  },
  {
   "cell_type": "code",
   "execution_count": 36,
   "metadata": {},
   "outputs": [],
   "source": [
    "with open(\"positions.json\", \"w\", encoding=\"utf-8\") as file:\n",
    "    json.dump(positions, file)"
   ]
  },
  {
   "cell_type": "code",
   "execution_count": 37,
   "metadata": {},
   "outputs": [],
   "source": [
    "f = open('positions.json')\n",
    "positions = json.load(f)"
   ]
  },
  {
   "cell_type": "code",
   "execution_count": 41,
   "metadata": {},
   "outputs": [],
   "source": [
    "df['position']= positions"
   ]
  },
  {
   "cell_type": "code",
   "execution_count": 43,
   "metadata": {},
   "outputs": [],
   "source": [
    "df.to_csv('T524_Outfield.csv')"
   ]
  }
 ],
 "metadata": {
  "kernelspec": {
   "display_name": "Python 3",
   "language": "python",
   "name": "python3"
  },
  "language_info": {
   "codemirror_mode": {
    "name": "ipython",
    "version": 3
   },
   "file_extension": ".py",
   "mimetype": "text/x-python",
   "name": "python",
   "nbconvert_exporter": "python",
   "pygments_lexer": "ipython3",
   "version": "3.11.9"
  }
 },
 "nbformat": 4,
 "nbformat_minor": 2
}
